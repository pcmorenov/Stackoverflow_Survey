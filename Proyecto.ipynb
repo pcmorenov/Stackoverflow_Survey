{
 "cells": [
  {
   "cell_type": "markdown",
   "id": "db752f2f",
   "metadata": {},
   "source": [
    "## Importar librerías"
   ]
  },
  {
   "cell_type": "code",
   "execution_count": 2,
   "id": "8a742cf2",
   "metadata": {},
   "outputs": [],
   "source": [
    "import numpy as np\n",
    "import pandas as pd\n",
    "import matplotlib.pyplot as plt\n",
    "from sklearn.linear_model import LinearRegression\n",
    "from sklearn.model_selection import train_test_split\n",
    "from sklearn.metrics import r2_score, mean_squared_error\n",
    "import seaborn as sns\n",
    "%matplotlib inline"
   ]
  },
  {
   "cell_type": "markdown",
   "id": "e0552358",
   "metadata": {},
   "source": [
    "### Importar base de datos - Stack Overflow Data - 2017 Survey "
   ]
  },
  {
   "cell_type": "code",
   "execution_count": 3,
   "id": "cf83c308",
   "metadata": {},
   "outputs": [
    {
     "data": {
      "text/html": [
       "<div>\n",
       "<style scoped>\n",
       "    .dataframe tbody tr th:only-of-type {\n",
       "        vertical-align: middle;\n",
       "    }\n",
       "\n",
       "    .dataframe tbody tr th {\n",
       "        vertical-align: top;\n",
       "    }\n",
       "\n",
       "    .dataframe thead th {\n",
       "        text-align: right;\n",
       "    }\n",
       "</style>\n",
       "<table border=\"1\" class=\"dataframe\">\n",
       "  <thead>\n",
       "    <tr style=\"text-align: right;\">\n",
       "      <th></th>\n",
       "      <th>Respondent</th>\n",
       "      <th>Professional</th>\n",
       "      <th>ProgramHobby</th>\n",
       "      <th>Country</th>\n",
       "      <th>University</th>\n",
       "      <th>EmploymentStatus</th>\n",
       "      <th>FormalEducation</th>\n",
       "      <th>MajorUndergrad</th>\n",
       "      <th>HomeRemote</th>\n",
       "      <th>CompanySize</th>\n",
       "      <th>...</th>\n",
       "      <th>StackOverflowMakeMoney</th>\n",
       "      <th>Gender</th>\n",
       "      <th>HighestEducationParents</th>\n",
       "      <th>Race</th>\n",
       "      <th>SurveyLong</th>\n",
       "      <th>QuestionsInteresting</th>\n",
       "      <th>QuestionsConfusing</th>\n",
       "      <th>InterestedAnswers</th>\n",
       "      <th>Salary</th>\n",
       "      <th>ExpectedSalary</th>\n",
       "    </tr>\n",
       "  </thead>\n",
       "  <tbody>\n",
       "    <tr>\n",
       "      <th>0</th>\n",
       "      <td>1</td>\n",
       "      <td>Student</td>\n",
       "      <td>Yes, both</td>\n",
       "      <td>United States</td>\n",
       "      <td>No</td>\n",
       "      <td>Not employed, and not looking for work</td>\n",
       "      <td>Secondary school</td>\n",
       "      <td>NaN</td>\n",
       "      <td>NaN</td>\n",
       "      <td>NaN</td>\n",
       "      <td>...</td>\n",
       "      <td>Strongly disagree</td>\n",
       "      <td>Male</td>\n",
       "      <td>High school</td>\n",
       "      <td>White or of European descent</td>\n",
       "      <td>Strongly disagree</td>\n",
       "      <td>Strongly agree</td>\n",
       "      <td>Disagree</td>\n",
       "      <td>Strongly agree</td>\n",
       "      <td>NaN</td>\n",
       "      <td>NaN</td>\n",
       "    </tr>\n",
       "    <tr>\n",
       "      <th>1</th>\n",
       "      <td>2</td>\n",
       "      <td>Student</td>\n",
       "      <td>Yes, both</td>\n",
       "      <td>United Kingdom</td>\n",
       "      <td>Yes, full-time</td>\n",
       "      <td>Employed part-time</td>\n",
       "      <td>Some college/university study without earning ...</td>\n",
       "      <td>Computer science or software engineering</td>\n",
       "      <td>More than half, but not all, the time</td>\n",
       "      <td>20 to 99 employees</td>\n",
       "      <td>...</td>\n",
       "      <td>Strongly disagree</td>\n",
       "      <td>Male</td>\n",
       "      <td>A master's degree</td>\n",
       "      <td>White or of European descent</td>\n",
       "      <td>Somewhat agree</td>\n",
       "      <td>Somewhat agree</td>\n",
       "      <td>Disagree</td>\n",
       "      <td>Strongly agree</td>\n",
       "      <td>NaN</td>\n",
       "      <td>37500.0</td>\n",
       "    </tr>\n",
       "    <tr>\n",
       "      <th>2</th>\n",
       "      <td>3</td>\n",
       "      <td>Professional developer</td>\n",
       "      <td>Yes, both</td>\n",
       "      <td>United Kingdom</td>\n",
       "      <td>No</td>\n",
       "      <td>Employed full-time</td>\n",
       "      <td>Bachelor's degree</td>\n",
       "      <td>Computer science or software engineering</td>\n",
       "      <td>Less than half the time, but at least one day ...</td>\n",
       "      <td>10,000 or more employees</td>\n",
       "      <td>...</td>\n",
       "      <td>Disagree</td>\n",
       "      <td>Male</td>\n",
       "      <td>A professional degree</td>\n",
       "      <td>White or of European descent</td>\n",
       "      <td>Somewhat agree</td>\n",
       "      <td>Agree</td>\n",
       "      <td>Disagree</td>\n",
       "      <td>Agree</td>\n",
       "      <td>113750.0</td>\n",
       "      <td>NaN</td>\n",
       "    </tr>\n",
       "    <tr>\n",
       "      <th>3</th>\n",
       "      <td>4</td>\n",
       "      <td>Professional non-developer who sometimes write...</td>\n",
       "      <td>Yes, both</td>\n",
       "      <td>United States</td>\n",
       "      <td>No</td>\n",
       "      <td>Employed full-time</td>\n",
       "      <td>Doctoral degree</td>\n",
       "      <td>A non-computer-focused engineering discipline</td>\n",
       "      <td>Less than half the time, but at least one day ...</td>\n",
       "      <td>10,000 or more employees</td>\n",
       "      <td>...</td>\n",
       "      <td>Disagree</td>\n",
       "      <td>Male</td>\n",
       "      <td>A doctoral degree</td>\n",
       "      <td>White or of European descent</td>\n",
       "      <td>Agree</td>\n",
       "      <td>Agree</td>\n",
       "      <td>Somewhat agree</td>\n",
       "      <td>Strongly agree</td>\n",
       "      <td>NaN</td>\n",
       "      <td>NaN</td>\n",
       "    </tr>\n",
       "    <tr>\n",
       "      <th>4</th>\n",
       "      <td>5</td>\n",
       "      <td>Professional developer</td>\n",
       "      <td>Yes, I program as a hobby</td>\n",
       "      <td>Switzerland</td>\n",
       "      <td>No</td>\n",
       "      <td>Employed full-time</td>\n",
       "      <td>Master's degree</td>\n",
       "      <td>Computer science or software engineering</td>\n",
       "      <td>Never</td>\n",
       "      <td>10 to 19 employees</td>\n",
       "      <td>...</td>\n",
       "      <td>NaN</td>\n",
       "      <td>NaN</td>\n",
       "      <td>NaN</td>\n",
       "      <td>NaN</td>\n",
       "      <td>NaN</td>\n",
       "      <td>NaN</td>\n",
       "      <td>NaN</td>\n",
       "      <td>NaN</td>\n",
       "      <td>NaN</td>\n",
       "      <td>NaN</td>\n",
       "    </tr>\n",
       "  </tbody>\n",
       "</table>\n",
       "<p>5 rows × 154 columns</p>\n",
       "</div>"
      ],
      "text/plain": [
       "   Respondent                                       Professional  \\\n",
       "0           1                                            Student   \n",
       "1           2                                            Student   \n",
       "2           3                             Professional developer   \n",
       "3           4  Professional non-developer who sometimes write...   \n",
       "4           5                             Professional developer   \n",
       "\n",
       "                ProgramHobby         Country      University  \\\n",
       "0                  Yes, both   United States              No   \n",
       "1                  Yes, both  United Kingdom  Yes, full-time   \n",
       "2                  Yes, both  United Kingdom              No   \n",
       "3                  Yes, both   United States              No   \n",
       "4  Yes, I program as a hobby     Switzerland              No   \n",
       "\n",
       "                         EmploymentStatus  \\\n",
       "0  Not employed, and not looking for work   \n",
       "1                      Employed part-time   \n",
       "2                      Employed full-time   \n",
       "3                      Employed full-time   \n",
       "4                      Employed full-time   \n",
       "\n",
       "                                     FormalEducation  \\\n",
       "0                                   Secondary school   \n",
       "1  Some college/university study without earning ...   \n",
       "2                                  Bachelor's degree   \n",
       "3                                    Doctoral degree   \n",
       "4                                    Master's degree   \n",
       "\n",
       "                                  MajorUndergrad  \\\n",
       "0                                            NaN   \n",
       "1       Computer science or software engineering   \n",
       "2       Computer science or software engineering   \n",
       "3  A non-computer-focused engineering discipline   \n",
       "4       Computer science or software engineering   \n",
       "\n",
       "                                          HomeRemote  \\\n",
       "0                                                NaN   \n",
       "1              More than half, but not all, the time   \n",
       "2  Less than half the time, but at least one day ...   \n",
       "3  Less than half the time, but at least one day ...   \n",
       "4                                              Never   \n",
       "\n",
       "                CompanySize  ... StackOverflowMakeMoney Gender  \\\n",
       "0                       NaN  ...      Strongly disagree   Male   \n",
       "1        20 to 99 employees  ...      Strongly disagree   Male   \n",
       "2  10,000 or more employees  ...               Disagree   Male   \n",
       "3  10,000 or more employees  ...               Disagree   Male   \n",
       "4        10 to 19 employees  ...                    NaN    NaN   \n",
       "\n",
       "  HighestEducationParents                          Race         SurveyLong  \\\n",
       "0             High school  White or of European descent  Strongly disagree   \n",
       "1       A master's degree  White or of European descent     Somewhat agree   \n",
       "2   A professional degree  White or of European descent     Somewhat agree   \n",
       "3       A doctoral degree  White or of European descent              Agree   \n",
       "4                     NaN                           NaN                NaN   \n",
       "\n",
       "  QuestionsInteresting QuestionsConfusing InterestedAnswers    Salary  \\\n",
       "0       Strongly agree           Disagree    Strongly agree       NaN   \n",
       "1       Somewhat agree           Disagree    Strongly agree       NaN   \n",
       "2                Agree           Disagree             Agree  113750.0   \n",
       "3                Agree     Somewhat agree    Strongly agree       NaN   \n",
       "4                  NaN                NaN               NaN       NaN   \n",
       "\n",
       "   ExpectedSalary  \n",
       "0             NaN  \n",
       "1         37500.0  \n",
       "2             NaN  \n",
       "3             NaN  \n",
       "4             NaN  \n",
       "\n",
       "[5 rows x 154 columns]"
      ]
     },
     "execution_count": 3,
     "metadata": {},
     "output_type": "execute_result"
    }
   ],
   "source": [
    "df = pd.read_csv('C:/Users/Asus X413/Data Science Course/Proyecto 1/survey_results_public.csv')\n",
    "df.head()"
   ]
  },
  {
   "cell_type": "code",
   "execution_count": 4,
   "id": "c778a02f",
   "metadata": {},
   "outputs": [
    {
     "data": {
      "text/plain": [
       "51392"
      ]
     },
     "execution_count": 4,
     "metadata": {},
     "output_type": "execute_result"
    }
   ],
   "source": [
    "df.shape[0]"
   ]
  },
  {
   "cell_type": "markdown",
   "id": "87d5df70",
   "metadata": {},
   "source": [
    "### Entendimiento del negocio"
   ]
  },
  {
   "cell_type": "markdown",
   "id": "f868fba5",
   "metadata": {},
   "source": [
    "Base para modelar"
   ]
  },
  {
   "cell_type": "code",
   "execution_count": 5,
   "id": "881dfe52",
   "metadata": {},
   "outputs": [],
   "source": [
    "df = df[['CareerSatisfaction', 'JobSatisfaction', 'HoursPerWeek', 'StackOverflowSatisfaction', 'Salary', \n",
    "               'ExpectedSalary', 'Professional', 'University', 'FormalEducation', 'EmploymentStatus', 'DiversityImportant',\n",
    "               'HomeRemote', 'EducationImportant', 'CompanySize']]\n"
   ]
  },
  {
   "cell_type": "code",
   "execution_count": 6,
   "id": "18ba5953",
   "metadata": {},
   "outputs": [
    {
     "data": {
      "text/html": [
       "<div>\n",
       "<style scoped>\n",
       "    .dataframe tbody tr th:only-of-type {\n",
       "        vertical-align: middle;\n",
       "    }\n",
       "\n",
       "    .dataframe tbody tr th {\n",
       "        vertical-align: top;\n",
       "    }\n",
       "\n",
       "    .dataframe thead th {\n",
       "        text-align: right;\n",
       "    }\n",
       "</style>\n",
       "<table border=\"1\" class=\"dataframe\">\n",
       "  <thead>\n",
       "    <tr style=\"text-align: right;\">\n",
       "      <th></th>\n",
       "      <th>CareerSatisfaction</th>\n",
       "      <th>JobSatisfaction</th>\n",
       "      <th>HoursPerWeek</th>\n",
       "      <th>StackOverflowSatisfaction</th>\n",
       "      <th>Salary</th>\n",
       "      <th>ExpectedSalary</th>\n",
       "    </tr>\n",
       "  </thead>\n",
       "  <tbody>\n",
       "    <tr>\n",
       "      <th>count</th>\n",
       "      <td>42695.000000</td>\n",
       "      <td>40376.000000</td>\n",
       "      <td>20600.000000</td>\n",
       "      <td>36592.000000</td>\n",
       "      <td>12891.000000</td>\n",
       "      <td>2566.000000</td>\n",
       "    </tr>\n",
       "    <tr>\n",
       "      <th>mean</th>\n",
       "      <td>7.300574</td>\n",
       "      <td>6.957078</td>\n",
       "      <td>3.952282</td>\n",
       "      <td>8.429875</td>\n",
       "      <td>56298.480641</td>\n",
       "      <td>33142.220468</td>\n",
       "    </tr>\n",
       "    <tr>\n",
       "      <th>std</th>\n",
       "      <td>1.955444</td>\n",
       "      <td>2.167652</td>\n",
       "      <td>7.564722</td>\n",
       "      <td>1.390635</td>\n",
       "      <td>39880.905277</td>\n",
       "      <td>30162.988829</td>\n",
       "    </tr>\n",
       "    <tr>\n",
       "      <th>min</th>\n",
       "      <td>0.000000</td>\n",
       "      <td>0.000000</td>\n",
       "      <td>0.000000</td>\n",
       "      <td>0.000000</td>\n",
       "      <td>0.000000</td>\n",
       "      <td>0.000000</td>\n",
       "    </tr>\n",
       "    <tr>\n",
       "      <th>25%</th>\n",
       "      <td>6.000000</td>\n",
       "      <td>6.000000</td>\n",
       "      <td>1.000000</td>\n",
       "      <td>8.000000</td>\n",
       "      <td>26440.371839</td>\n",
       "      <td>4490.492484</td>\n",
       "    </tr>\n",
       "    <tr>\n",
       "      <th>50%</th>\n",
       "      <td>8.000000</td>\n",
       "      <td>7.000000</td>\n",
       "      <td>1.000000</td>\n",
       "      <td>9.000000</td>\n",
       "      <td>50000.000000</td>\n",
       "      <td>29364.263691</td>\n",
       "    </tr>\n",
       "    <tr>\n",
       "      <th>75%</th>\n",
       "      <td>9.000000</td>\n",
       "      <td>8.000000</td>\n",
       "      <td>4.000000</td>\n",
       "      <td>10.000000</td>\n",
       "      <td>80000.000000</td>\n",
       "      <td>50403.225806</td>\n",
       "    </tr>\n",
       "    <tr>\n",
       "      <th>max</th>\n",
       "      <td>10.000000</td>\n",
       "      <td>10.000000</td>\n",
       "      <td>40.000000</td>\n",
       "      <td>10.000000</td>\n",
       "      <td>197000.000000</td>\n",
       "      <td>187500.000000</td>\n",
       "    </tr>\n",
       "  </tbody>\n",
       "</table>\n",
       "</div>"
      ],
      "text/plain": [
       "       CareerSatisfaction  JobSatisfaction  HoursPerWeek  \\\n",
       "count        42695.000000     40376.000000  20600.000000   \n",
       "mean             7.300574         6.957078      3.952282   \n",
       "std              1.955444         2.167652      7.564722   \n",
       "min              0.000000         0.000000      0.000000   \n",
       "25%              6.000000         6.000000      1.000000   \n",
       "50%              8.000000         7.000000      1.000000   \n",
       "75%              9.000000         8.000000      4.000000   \n",
       "max             10.000000        10.000000     40.000000   \n",
       "\n",
       "       StackOverflowSatisfaction         Salary  ExpectedSalary  \n",
       "count               36592.000000   12891.000000     2566.000000  \n",
       "mean                    8.429875   56298.480641    33142.220468  \n",
       "std                     1.390635   39880.905277    30162.988829  \n",
       "min                     0.000000       0.000000        0.000000  \n",
       "25%                     8.000000   26440.371839     4490.492484  \n",
       "50%                     9.000000   50000.000000    29364.263691  \n",
       "75%                    10.000000   80000.000000    50403.225806  \n",
       "max                    10.000000  197000.000000   187500.000000  "
      ]
     },
     "execution_count": 6,
     "metadata": {},
     "output_type": "execute_result"
    }
   ],
   "source": [
    "# Se realizan descriptivas de las variables numéricas\n",
    "df.describe()"
   ]
  },
  {
   "cell_type": "markdown",
   "id": "963d94c9",
   "metadata": {},
   "source": [
    "1. ¿Qué relación tiene la satisfacción del trabajo según el salario devengado y las horas trabajadas por semana para el caso de los desarrolladores profesionales?"
   ]
  },
  {
   "cell_type": "code",
   "execution_count": 26,
   "id": "02b654a9",
   "metadata": {},
   "outputs": [
    {
     "data": {
      "text/html": [
       "<div>\n",
       "<style scoped>\n",
       "    .dataframe tbody tr th:only-of-type {\n",
       "        vertical-align: middle;\n",
       "    }\n",
       "\n",
       "    .dataframe tbody tr th {\n",
       "        vertical-align: top;\n",
       "    }\n",
       "\n",
       "    .dataframe thead th {\n",
       "        text-align: right;\n",
       "    }\n",
       "</style>\n",
       "<table border=\"1\" class=\"dataframe\">\n",
       "  <thead>\n",
       "    <tr style=\"text-align: right;\">\n",
       "      <th></th>\n",
       "      <th>JobSatisfaction</th>\n",
       "      <th>Salary</th>\n",
       "      <th>HoursPerWeek</th>\n",
       "    </tr>\n",
       "  </thead>\n",
       "  <tbody>\n",
       "    <tr>\n",
       "      <th>JobSatisfaction</th>\n",
       "      <td>1.000000</td>\n",
       "      <td>0.120765</td>\n",
       "      <td>-0.076535</td>\n",
       "    </tr>\n",
       "    <tr>\n",
       "      <th>Salary</th>\n",
       "      <td>0.120765</td>\n",
       "      <td>1.000000</td>\n",
       "      <td>-0.120121</td>\n",
       "    </tr>\n",
       "    <tr>\n",
       "      <th>HoursPerWeek</th>\n",
       "      <td>-0.076535</td>\n",
       "      <td>-0.120121</td>\n",
       "      <td>1.000000</td>\n",
       "    </tr>\n",
       "  </tbody>\n",
       "</table>\n",
       "</div>"
      ],
      "text/plain": [
       "                 JobSatisfaction    Salary  HoursPerWeek\n",
       "JobSatisfaction         1.000000  0.120765     -0.076535\n",
       "Salary                  0.120765  1.000000     -0.120121\n",
       "HoursPerWeek           -0.076535 -0.120121      1.000000"
      ]
     },
     "execution_count": 26,
     "metadata": {},
     "output_type": "execute_result"
    }
   ],
   "source": [
    "## Se hace una matriz de correlación en las variables de interés\n",
    "\n",
    "df[df['Professional'] == 'Professional developer'][['JobSatisfaction', 'Salary', 'HoursPerWeek']].corr()"
   ]
  },
  {
   "cell_type": "code",
   "execution_count": 27,
   "id": "2da4daa6",
   "metadata": {},
   "outputs": [
    {
     "data": {
      "text/plain": [
       "<AxesSubplot:>"
      ]
     },
     "execution_count": 27,
     "metadata": {},
     "output_type": "execute_result"
    },
    {
     "data": {
      "image/png": "[encoded data removed]",
      "text/plain": [
       "<Figure size 432x288 with 2 Axes>"
      ]
     },
     "metadata": {
      "needs_background": "light"
     },
     "output_type": "display_data"
    }
   ],
   "source": [
    "# Para tener un mejor análisis se hace un mapa de calor\n",
    "\n",
    "sns.heatmap(df[df['Professional'] == 'Professional developer'][['JobSatisfaction', 'Salary', 'HoursPerWeek']].corr(),\n",
    "            annot = True)"
   ]
  },
  {
   "cell_type": "markdown",
   "id": "ff6ecb94",
   "metadata": {},
   "source": [
    "Según los resultados anteriores para el año 2017, la satisfacción laboral de los desarrolladores profesionales tendría una relación positiva con el salario, lo que significa que ante un aumento del salario habría eventualmente mayor satisfacción laboral. Sin embargo, como era de esperarse ante un aumento de las horas laborales la satisfacción laboral tendería a disminuir, esto significa que tienen una correlación negativa. "
   ]
  },
  {
   "cell_type": "markdown",
   "id": "d55d1f23",
   "metadata": {},
   "source": [
    "2. ¿En promedio cuánto ganan los desarrolladores profesionales y en qué tamaño de empresa se vinculan mas?"
   ]
  },
  {
   "cell_type": "code",
   "execution_count": 9,
   "id": "ba76abaa",
   "metadata": {},
   "outputs": [
    {
     "data": {
      "text/plain": [
       "56298.48064062976"
      ]
     },
     "execution_count": 9,
     "metadata": {},
     "output_type": "execute_result"
    }
   ],
   "source": [
    "# Se cogen sólo los desarrolladores profesionales y se quitan nulos en salarios\n",
    "\n",
    "PD = pd.DataFrame(df[df['Professional'] == 'Professional developer'][['Professional','Salary', 'CompanySize']])\n",
    "PD = PD.dropna(axis = 0, subset = ['Salary'], how = 'all')\n",
    "PD['Salary'].mean()"
   ]
  },
  {
   "cell_type": "code",
   "execution_count": 10,
   "id": "25c5277c",
   "metadata": {},
   "outputs": [
    {
     "data": {
      "text/plain": [
       "Text(0.5, 1.0, 'Distribución Salarios')"
      ]
     },
     "execution_count": 10,
     "metadata": {},
     "output_type": "execute_result"
    },
    {
     "data": {
      "image/png": "[encoded data removed]",
      "text/plain": [
       "<Figure size 432x288 with 1 Axes>"
      ]
     },
     "metadata": {
      "needs_background": "light"
     },
     "output_type": "display_data"
    }
   ],
   "source": [
    "# Histograma de salarios para conocer el rango\n",
    "\n",
    "plt.hist(PD['Salary'], color = 'purple', alpha = 0.5)\n",
    "plt.title('Distribución Salarios')"
   ]
  },
  {
   "cell_type": "code",
   "execution_count": 11,
   "id": "03f837c6",
   "metadata": {},
   "outputs": [
    {
     "data": {
      "text/plain": [
       "<AxesSubplot:title={'center':'Proporción de desarrolladores profesionales por tamaño de empresa'}>"
      ]
     },
     "execution_count": 11,
     "metadata": {},
     "output_type": "execute_result"
    },
    {
     "data": {
      "image/png": "[encoded data removed]",
      "text/plain": [
       "<Figure size 432x288 with 1 Axes>"
      ]
     },
     "metadata": {
      "needs_background": "light"
     },
     "output_type": "display_data"
    }
   ],
   "source": [
    "# Porcentaje por tamaño de emprea de desarrolladores profesionales\n",
    "\n",
    "((PD['CompanySize'].value_counts())/PD.shape[0]).plot(kind='bar', color= 'red', \n",
    "                                                      title='Proporción de desarrolladores profesionales por tamaño de empresa',\n",
    "                                                      alpha = 0.7)"
   ]
  },
  {
   "cell_type": "markdown",
   "id": "2253cd77",
   "metadata": {},
   "source": [
    "Los desarrolladores profesionales tienen un salario promedio de 56.298, además al rededor del 43% están vinculados en empresas con menos de 500 empleados. "
   ]
  },
  {
   "cell_type": "markdown",
   "id": "60132bf8",
   "metadata": {},
   "source": [
    "3. ¿En promedio cómo es la satisfacción en el trabajo y el salario según la importancia a la educación de cada persona?"
   ]
  },
  {
   "cell_type": "code",
   "execution_count": 12,
   "id": "fa89859e",
   "metadata": {},
   "outputs": [],
   "source": [
    "# Se realiza un nuevo data frame con las variables de interés\n",
    "\n",
    "IE = pd.DataFrame(df[['JobSatisfaction', 'EducationImportant', 'Salary']])"
   ]
  },
  {
   "cell_type": "code",
   "execution_count": 13,
   "id": "33f1ba08",
   "metadata": {},
   "outputs": [
    {
     "data": {
      "text/html": [
       "<div>\n",
       "<style scoped>\n",
       "    .dataframe tbody tr th:only-of-type {\n",
       "        vertical-align: middle;\n",
       "    }\n",
       "\n",
       "    .dataframe tbody tr th {\n",
       "        vertical-align: top;\n",
       "    }\n",
       "\n",
       "    .dataframe thead th {\n",
       "        text-align: right;\n",
       "    }\n",
       "</style>\n",
       "<table border=\"1\" class=\"dataframe\">\n",
       "  <thead>\n",
       "    <tr style=\"text-align: right;\">\n",
       "      <th></th>\n",
       "      <th>EducationImportant</th>\n",
       "      <th>JobSatisfaction</th>\n",
       "      <th>Salary</th>\n",
       "    </tr>\n",
       "  </thead>\n",
       "  <tbody>\n",
       "    <tr>\n",
       "      <th>0</th>\n",
       "      <td>Important</td>\n",
       "      <td>7.057989</td>\n",
       "      <td>55949.466853</td>\n",
       "    </tr>\n",
       "    <tr>\n",
       "      <th>1</th>\n",
       "      <td>Not at all important</td>\n",
       "      <td>7.003062</td>\n",
       "      <td>58676.103645</td>\n",
       "    </tr>\n",
       "    <tr>\n",
       "      <th>2</th>\n",
       "      <td>Not very important</td>\n",
       "      <td>6.971906</td>\n",
       "      <td>55498.730833</td>\n",
       "    </tr>\n",
       "    <tr>\n",
       "      <th>3</th>\n",
       "      <td>Somewhat important</td>\n",
       "      <td>6.932311</td>\n",
       "      <td>55751.705967</td>\n",
       "    </tr>\n",
       "    <tr>\n",
       "      <th>4</th>\n",
       "      <td>Very important</td>\n",
       "      <td>7.213850</td>\n",
       "      <td>59541.444482</td>\n",
       "    </tr>\n",
       "  </tbody>\n",
       "</table>\n",
       "</div>"
      ],
      "text/plain": [
       "     EducationImportant  JobSatisfaction        Salary\n",
       "0             Important         7.057989  55949.466853\n",
       "1  Not at all important         7.003062  58676.103645\n",
       "2    Not very important         6.971906  55498.730833\n",
       "3    Somewhat important         6.932311  55751.705967\n",
       "4        Very important         7.213850  59541.444482"
      ]
     },
     "execution_count": 13,
     "metadata": {},
     "output_type": "execute_result"
    }
   ],
   "source": [
    "# Comparación\n",
    "\n",
    "A = IE.groupby(['EducationImportant']).mean()['JobSatisfaction'].reset_index()\n",
    "B = IE.groupby(['EducationImportant']).mean()['Salary'].reset_index()\n",
    "C = A.merge(B, how = 'left', left_on = 'EducationImportant', right_on = 'EducationImportant')\n",
    "C"
   ]
  },
  {
   "cell_type": "markdown",
   "id": "29c0cbfb",
   "metadata": {},
   "source": [
    "En promedio las personas que le dan mayor importancia a la educación cuentan con un salario más alto y una mayor satisfacción laboral que las personas que le dan menor importancia a la educación. "
   ]
  },
  {
   "cell_type": "markdown",
   "id": "10337402",
   "metadata": {},
   "source": [
    "4. ¿Cómo es la relación de la satisfacción laboral frente a los desarrolladores profesionales que pueden trabajar en casa?"
   ]
  },
  {
   "cell_type": "code",
   "execution_count": 35,
   "id": "cde5e4c8",
   "metadata": {},
   "outputs": [],
   "source": [
    "# Se realiza un nuevo data frame con las variables de interés\n",
    "\n",
    "HO = df[df['Professional'] == 'Professional developer'][['JobSatisfaction', 'HomeRemote']]"
   ]
  },
  {
   "cell_type": "code",
   "execution_count": 36,
   "id": "1fde74a9",
   "metadata": {},
   "outputs": [
    {
     "data": {
      "text/plain": [
       "<AxesSubplot:title={'center':'Satisfacción laboral por tipo de trabajo'}, xlabel='HomeRemote'>"
      ]
     },
     "execution_count": 36,
     "metadata": {},
     "output_type": "execute_result"
    },
    {
     "data": {
      "image/png": "[encoded data removed]",
      "text/plain": [
       "<Figure size 432x288 with 1 Axes>"
      ]
     },
     "metadata": {
      "needs_background": "light"
     },
     "output_type": "display_data"
    }
   ],
   "source": [
    "HO.groupby(['HomeRemote']).mean()['JobSatisfaction'].plot(kind='bar', color= 'grey', \n",
    "                                                      title='Satisfacción laboral por tipo de trabajo',\n",
    "                                                      alpha = 0.7)"
   ]
  },
  {
   "cell_type": "markdown",
   "id": "21c70b3d",
   "metadata": {},
   "source": [
    "Según la grafica anterior, para los desarrolladores profesionales existe mayor satisfacción laboral si se trabaja siempre o casi siempre de forma remota en casa."
   ]
  },
  {
   "cell_type": "markdown",
   "id": "366481d9",
   "metadata": {},
   "source": [
    "### 5. ¿Es posible predecir la satisfación laboral según la muestra de la encuesta?"
   ]
  },
  {
   "cell_type": "markdown",
   "id": "2152d6c5",
   "metadata": {},
   "source": [
    "### Preparación de los datos"
   ]
  },
  {
   "cell_type": "code",
   "execution_count": 16,
   "id": "d017f2b1",
   "metadata": {},
   "outputs": [
    {
     "data": {
      "text/plain": [
       "40376"
      ]
     },
     "execution_count": 16,
     "metadata": {},
     "output_type": "execute_result"
    }
   ],
   "source": [
    "# Se quitan los nulos de la variable objetivo\n",
    "\n",
    "df = df.dropna(axis = 0, subset = ['JobSatisfaction'])\n",
    "df.shape[0]"
   ]
  },
  {
   "cell_type": "code",
   "execution_count": 17,
   "id": "62d1eb88",
   "metadata": {},
   "outputs": [],
   "source": [
    "# Se separa la información entre la variable objetivo y las variables explicativas\n",
    "\n",
    "Y = df['JobSatisfaction']\n",
    "\n",
    "X = df.drop(['JobSatisfaction'], axis = 1)"
   ]
  },
  {
   "cell_type": "code",
   "execution_count": 18,
   "id": "6629158e",
   "metadata": {},
   "outputs": [],
   "source": [
    "# Se imputan los datos numéricos con la mediana de las variables para evitar sesgos de la media\n",
    "\n",
    "vn = X.select_dtypes(include = ['float', 'int']).columns\n",
    "\n",
    "for i in vn:\n",
    "    X[i].fillna((X[i].mean()), inplace = True)\n",
    "    \n"
   ]
  },
  {
   "cell_type": "code",
   "execution_count": 19,
   "id": "71a21cf2",
   "metadata": {},
   "outputs": [],
   "source": [
    "# Las variables categóricas se convierten en dummies\n",
    "\n",
    "vc = X.select_dtypes(include = ['object']).copy().columns\n",
    "\n",
    "for ct in vc:\n",
    "    X = pd.concat([X.drop(ct, axis = 1), pd.get_dummies(X[ct], prefix = ct, prefix_sep = '_', drop_first = True)], axis = 1)\n",
    "\n"
   ]
  },
  {
   "cell_type": "code",
   "execution_count": 20,
   "id": "1e160ee3",
   "metadata": {},
   "outputs": [
    {
     "data": {
      "text/plain": [
       "LinearRegression(normalize=True)"
      ]
     },
     "execution_count": 20,
     "metadata": {},
     "output_type": "execute_result"
    }
   ],
   "source": [
    "# Dividir la base en train y test - Entrenar el modelo\n",
    "\n",
    "X_Train, X_Test, Y_Train, Y_Test = train_test_split(X, Y, test_size = 0.3, random_state = 48)\n",
    "\n",
    "mco_model = LinearRegression(normalize=True)\n",
    "mco_model.fit(X_Train, Y_Train)\n"
   ]
  },
  {
   "cell_type": "code",
   "execution_count": 21,
   "id": "b3fb0184",
   "metadata": {},
   "outputs": [
    {
     "data": {
      "text/plain": [
       "0.41418475218014816"
      ]
     },
     "execution_count": 21,
     "metadata": {},
     "output_type": "execute_result"
    }
   ],
   "source": [
    "# Probar el modelo y evaluarlo\n",
    "\n",
    "pred_test = mco_model.predict(X_Test)\n",
    "r2 = r2_score(Y_Test, pred_test)\n",
    "r2"
   ]
  },
  {
   "cell_type": "code",
   "execution_count": 22,
   "id": "367e4c3c",
   "metadata": {},
   "outputs": [
    {
     "data": {
      "text/plain": [
       "0.42743106610327297"
      ]
     },
     "execution_count": 22,
     "metadata": {},
     "output_type": "execute_result"
    }
   ],
   "source": [
    "# Probar que no exista  overfitting\n",
    "\n",
    "pred_train = mco_model.predict(X_Train)\n",
    "\n",
    "#Score using your model\n",
    "test_sc = r2_score(Y_Test, pred_test)\n",
    "train_sc = r2_score(Y_Train, pred_train)\n",
    "train_sc"
   ]
  },
  {
   "cell_type": "markdown",
   "id": "032296b7",
   "metadata": {},
   "source": [
    "Si se puede predecir la satisfacción según la muestra de la encuesta, además se logró un modelo que no genera overfitting."
   ]
  }
 ],
 "metadata": {
  "kernelspec": {
   "display_name": "Python 3",
   "language": "python",
   "name": "python3"
  },
  "language_info": {
   "codemirror_mode": {
    "name": "ipython",
    "version": 3
   },
   "file_extension": ".py",
   "mimetype": "text/x-python",
   "name": "python",
   "nbconvert_exporter": "python",
   "pygments_lexer": "ipython3",
   "version": "3.8.8"
  }
 },
 "nbformat": 4,
 "nbformat_minor": 5
}
